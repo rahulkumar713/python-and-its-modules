{
 "cells": [
  {
   "cell_type": "code",
   "execution_count": 1,
   "id": "aaa2fb26",
   "metadata": {},
   "outputs": [],
   "source": [
    "import mysql.connector"
   ]
  },
  {
   "cell_type": "code",
   "execution_count": 2,
   "id": "61d70b70",
   "metadata": {},
   "outputs": [
    {
     "name": "stdout",
     "output_type": "stream",
     "text": [
      "<mysql.connector.connection.MySQLConnection object at 0x000002255B285CA0>\n",
      "MySQLCursor: (Nothing executed yet)\n"
     ]
    }
   ],
   "source": [
    "myconn = mysql.connector.connect(host = \"localhost\", user = \"root\",passwd = \"qwertyuiop\")\n",
    "print(myconn)\n",
    "\n",
    "cur = myconn.cursor()  \n",
    "  \n",
    "print(cur)  "
   ]
  },
  {
   "cell_type": "code",
   "execution_count": 3,
   "id": "5303e7f4",
   "metadata": {},
   "outputs": [
    {
     "name": "stdout",
     "output_type": "stream",
     "text": [
      "('flyaway',)\n",
      "('information_schema',)\n",
      "('mysql',)\n",
      "('performance_schema',)\n",
      "('product1',)\n",
      "('python_prac',)\n",
      "('student',)\n",
      "('sys',)\n"
     ]
    }
   ],
   "source": [
    "try:  \n",
    "    dbs = cur.execute(\"show databases\")  \n",
    "except:  \n",
    "    myconn.rollback()  \n",
    "for x in cur:  \n",
    "    print(x)   "
   ]
  },
  {
   "cell_type": "code",
   "execution_count": 4,
   "id": "72d8058b",
   "metadata": {},
   "outputs": [
    {
     "name": "stdout",
     "output_type": "stream",
     "text": [
      "None\n"
     ]
    }
   ],
   "source": [
    "print(dbs)"
   ]
  },
  {
   "cell_type": "code",
   "execution_count": 5,
   "id": "d1053c5e",
   "metadata": {},
   "outputs": [],
   "source": [
    "try:  \n",
    "    #creating a new database  \n",
    "    cur.execute(\"create database python_prac\")  \n",
    "  \n",
    "    #getting the list of all the databases which will now include the new database PythonDB  \n",
    "    dbs = cur.execute(\"show databases\")  \n",
    "      \n",
    "except:  \n",
    "    myconn.rollback()  \n",
    "  \n",
    "for x in cur:  \n",
    "        print(x)  "
   ]
  },
  {
   "cell_type": "code",
   "execution_count": 6,
   "id": "bb4c9581",
   "metadata": {},
   "outputs": [
    {
     "name": "stdout",
     "output_type": "stream",
     "text": [
      "MySQLCursor: create database python_prac\n"
     ]
    }
   ],
   "source": [
    "print(cur)"
   ]
  },
  {
   "cell_type": "code",
   "execution_count": 7,
   "id": "4cd073f5",
   "metadata": {},
   "outputs": [],
   "source": [
    "try:\n",
    "    dbs = cur.execute(\"use python_prac\")    \n",
    "\n",
    "except:\n",
    "    myconn.rollback()"
   ]
  },
  {
   "cell_type": "code",
   "execution_count": 49,
   "id": "a2729e13",
   "metadata": {},
   "outputs": [],
   "source": [
    "try:   \n",
    "    dbs = cur.execute(\"create table user(ID int auto_increment,first_name varchar(20),last_name varchar(20),email varchar(50),password varchar(50),phone_number int, D_O_B Date, primary key(ID))\")\n",
    "except:\n",
    "    myconn.rollback()"
   ]
  },
  {
   "cell_type": "code",
   "execution_count": 50,
   "id": "b177f8f2",
   "metadata": {},
   "outputs": [],
   "source": [
    "try:\n",
    "    dbs = cur.execute(\"alter table user add age int\")\n",
    "except:\n",
    "    myconn.rollback()"
   ]
  },
  {
   "cell_type": "code",
   "execution_count": 57,
   "id": "0a1e0c05",
   "metadata": {},
   "outputs": [],
   "source": [
    "dbs = cur.execute(\"alter table user drop D_O_B\")"
   ]
  },
  {
   "cell_type": "code",
   "execution_count": 60,
   "id": "4090f7cb",
   "metadata": {},
   "outputs": [],
   "source": [
    "dbs = cur.execute(\"alter table user drop phone_number \")"
   ]
  },
  {
   "cell_type": "code",
   "execution_count": 11,
   "id": "45e43916",
   "metadata": {},
   "outputs": [
    {
     "name": "stdout",
     "output_type": "stream",
     "text": [
      "how many record you want to enter : 5\n",
      "-----------------------------------\n",
      "enter your first_name : xyz\n",
      "enter your last_name : abc\n",
      "enter your email : xyz@gmail.com\n",
      "enter your password : worry not\n",
      "enter your age : 20\n",
      " success full record inserted\n",
      "---------------------------------\n",
      "enter your first_name : abc\n",
      "enter your last_name : kumar\n",
      "enter your email : abckumar@yahoo.com\n",
      "enter your password : qazwsxedcrfv\n",
      "enter your age : 44\n",
      " success full record inserted\n",
      "---------------------------------\n",
      "enter your first_name : hello\n",
      "enter your last_name : world\n",
      "enter your email : helloworld@gmail.com\n",
      "enter your password : helloworld\n",
      "enter your age : 99\n",
      " success full record inserted\n",
      "---------------------------------\n",
      "enter your first_name : plumber\n",
      "enter your last_name : pipe\n",
      "enter your email : plumber_pipe_wala@gmail.com\n",
      "enter your password : plumber solve pipe problem\n",
      "enter your age : 36\n",
      " success full record inserted\n",
      "---------------------------------\n",
      "enter your first_name : arijit\n",
      "enter your last_name : singh\n",
      "enter your email : singerarijit@gmail.com\n",
      "enter your password : singer hu m\n",
      "enter your age : 38\n",
      " success full record inserted\n",
      "---------------------------------\n"
     ]
    }
   ],
   "source": [
    "sql = \"insert into user (first_name , last_name ,email , password ,age) values(%s,%s,%s,%s,%s)\"\n",
    "inp = input(\"how many record you want to enter : \")\n",
    "print(\"-----------------------------------\")\n",
    "for i in range(int(inp)):\n",
    "    f_name = input(\"enter your first_name : \")\n",
    "    l_name = input(\"enter your last_name : \")\n",
    "    email = input(\"enter your email : \")\n",
    "    password = input(\"enter your password : \")\n",
    "    age = int(input(\"enter your age : \"))\n",
    "    val = [f_name , l_name , email , password , age]\n",
    "    dbs = cur.execute(sql , val)\n",
    "    myconn.commit()\n",
    "    print(\" success full record inserted\")\n",
    "    print(\"---------------------------------\")"
   ]
  },
  {
   "cell_type": "code",
   "execution_count": 20,
   "id": "eb0c953f",
   "metadata": {},
   "outputs": [
    {
     "name": "stdout",
     "output_type": "stream",
     "text": [
      " ID        NAME      AGE\n",
      "1       rahul       24\n",
      "4       renu       25\n",
      "5       aarti       19\n",
      "6       abhishek       23\n",
      "7       xyz       20\n",
      "8       abc       44\n",
      "9       hello       99\n",
      "10       plumber       36\n",
      "11       arijit       38\n"
     ]
    }
   ],
   "source": [
    "cur.execute(\"select id , first_name , age from user\")\n",
    "result = cur.fetchall()\n",
    "\n",
    "print(\" ID        NAME      AGE\")\n",
    "for x in result:\n",
    "    print(\"%s       %s       %s\" %(x[0] , x[1] , x[2]))"
   ]
  },
  {
   "cell_type": "code",
   "execution_count": null,
   "id": "9ca293d2",
   "metadata": {},
   "outputs": [],
   "source": []
  }
 ],
 "metadata": {
  "kernelspec": {
   "display_name": "Python 3 (ipykernel)",
   "language": "python",
   "name": "python3"
  },
  "language_info": {
   "codemirror_mode": {
    "name": "ipython",
    "version": 3
   },
   "file_extension": ".py",
   "mimetype": "text/x-python",
   "name": "python",
   "nbconvert_exporter": "python",
   "pygments_lexer": "ipython3",
   "version": "3.9.13"
  }
 },
 "nbformat": 4,
 "nbformat_minor": 5
}
